{
 "cells": [
  {
   "cell_type": "code",
   "execution_count": 1,
   "metadata": {},
   "outputs": [],
   "source": [
    "import xml.etree.ElementTree as ET\n",
    "import os\n",
    "import json\n",
    "# make json file image name mapped to coords"
   ]
  },
  {
   "cell_type": "code",
   "execution_count": 2,
   "metadata": {},
   "outputs": [
    {
     "data": {
      "text/plain": [
       "['../hand_annotations/10_1.xml',\n",
       " '../hand_annotations/10_2.xml',\n",
       " '../hand_annotations/10_3.xml',\n",
       " '../hand_annotations/10_4.xml',\n",
       " '../hand_annotations/10_5.xml',\n",
       " '../hand_annotations/10_6.xml',\n",
       " '../hand_annotations/10_7.xml',\n",
       " '../hand_annotations/10_8.xml',\n",
       " '../hand_annotations/1_1.xml',\n",
       " '../hand_annotations/1_3.xml',\n",
       " '../hand_annotations/1_4.xml',\n",
       " '../hand_annotations/1_5.xml',\n",
       " '../hand_annotations/1_6.xml',\n",
       " '../hand_annotations/1_7.xml',\n",
       " '../hand_annotations/1_8.xml',\n",
       " '../hand_annotations/1_9.xml',\n",
       " '../hand_annotations/2_1.xml',\n",
       " '../hand_annotations/2_2.xml',\n",
       " '../hand_annotations/2_3.xml',\n",
       " '../hand_annotations/2_4.xml',\n",
       " '../hand_annotations/2_5.xml',\n",
       " '../hand_annotations/2_6.xml',\n",
       " '../hand_annotations/2_7.xml',\n",
       " '../hand_annotations/2_8.xml',\n",
       " '../hand_annotations/2_9.xml',\n",
       " '../hand_annotations/3_1.xml',\n",
       " '../hand_annotations/3_2.xml',\n",
       " '../hand_annotations/3_3.xml',\n",
       " '../hand_annotations/3_4.xml',\n",
       " '../hand_annotations/3_5.xml',\n",
       " '../hand_annotations/3_6.xml',\n",
       " '../hand_annotations/3_7.xml',\n",
       " '../hand_annotations/4_1.xml',\n",
       " '../hand_annotations/4_10.xml',\n",
       " '../hand_annotations/4_2.xml',\n",
       " '../hand_annotations/4_3.xml',\n",
       " '../hand_annotations/4_4.xml',\n",
       " '../hand_annotations/4_5.xml',\n",
       " '../hand_annotations/4_6.xml',\n",
       " '../hand_annotations/4_7.xml',\n",
       " '../hand_annotations/4_8.xml',\n",
       " '../hand_annotations/4_9.xml',\n",
       " '../hand_annotations/5_1.xml',\n",
       " '../hand_annotations/5_10.xml',\n",
       " '../hand_annotations/5_2.xml',\n",
       " '../hand_annotations/5_3.xml',\n",
       " '../hand_annotations/5_4.xml',\n",
       " '../hand_annotations/5_5.xml',\n",
       " '../hand_annotations/5_6.xml',\n",
       " '../hand_annotations/5_7.xml',\n",
       " '../hand_annotations/5_8.xml',\n",
       " '../hand_annotations/5_9.xml',\n",
       " '../hand_annotations/6_1.xml',\n",
       " '../hand_annotations/6_2.xml',\n",
       " '../hand_annotations/6_3.xml',\n",
       " '../hand_annotations/6_4.xml',\n",
       " '../hand_annotations/6_5.xml',\n",
       " '../hand_annotations/6_6.xml',\n",
       " '../hand_annotations/6_7.xml',\n",
       " '../hand_annotations/6_8.xml',\n",
       " '../hand_annotations/7_1.xml',\n",
       " '../hand_annotations/7_2.xml',\n",
       " '../hand_annotations/7_3.xml',\n",
       " '../hand_annotations/7_4.xml',\n",
       " '../hand_annotations/7_5.xml',\n",
       " '../hand_annotations/7_6.xml',\n",
       " '../hand_annotations/7_7.xml',\n",
       " '../hand_annotations/7_8.xml',\n",
       " '../hand_annotations/8_1.xml',\n",
       " '../hand_annotations/8_2.xml',\n",
       " '../hand_annotations/8_3.xml',\n",
       " '../hand_annotations/8_4.xml',\n",
       " '../hand_annotations/8_5.xml',\n",
       " '../hand_annotations/8_6.xml',\n",
       " '../hand_annotations/8_7.xml',\n",
       " '../hand_annotations/8_8.xml',\n",
       " '../hand_annotations/9_1.xml',\n",
       " '../hand_annotations/9_2.xml',\n",
       " '../hand_annotations/9_3.xml',\n",
       " '../hand_annotations/9_4.xml',\n",
       " '../hand_annotations/9_5.xml',\n",
       " '../hand_annotations/9_6.xml',\n",
       " '../hand_annotations/9_7.xml']"
      ]
     },
     "execution_count": 2,
     "metadata": {},
     "output_type": "execute_result"
    }
   ],
   "source": [
    "HOME = \"../hand_annotations/\"\n",
    "file_list = os.listdir(HOME)\n",
    "file_list = list(map(lambda x: HOME + x, file_list))\n",
    "file_list"
   ]
  },
  {
   "cell_type": "code",
   "execution_count": 3,
   "metadata": {},
   "outputs": [],
   "source": [
    "def parse_xml(file):\n",
    "    tree = ET.parse(file)\n",
    "    root= tree.getroot()\n",
    "    box = root.find(\"object\").find(\"bndbox\")\n",
    "    coord = {}\n",
    "    for child in box.getchildren():\n",
    "        tag = child.tag\n",
    "        value = int(child.text)\n",
    "        coord[tag] = value\n",
    "#     center_x = (coord['xmax'] + coord['xmin'])/2\n",
    "#     center_y = (coord['ymax'] + coord['ymin'])/2\n",
    "    img_file = file.split(\"/\")[-1].split('.')[0]\n",
    "    img_file = \"../images/\" + img_file + \".jpg\"\n",
    "    return img_file, ([coord['xmin'], coord['ymin']], [coord['xmax'], coord['ymax']])"
   ]
  },
  {
   "cell_type": "code",
   "execution_count": 4,
   "metadata": {},
   "outputs": [],
   "source": [
    "annotations = dict(map(parse_xml, file_list))"
   ]
  },
  {
   "cell_type": "code",
   "execution_count": 5,
   "metadata": {},
   "outputs": [],
   "source": [
    "with open(\"hand_annotations.json\", 'w') as file:\n",
    "    json.dump(annotations, file)"
   ]
  }
 ],
 "metadata": {
  "kernelspec": {
   "display_name": "Python 3",
   "language": "python",
   "name": "python3"
  },
  "language_info": {
   "codemirror_mode": {
    "name": "ipython",
    "version": 3
   },
   "file_extension": ".py",
   "mimetype": "text/x-python",
   "name": "python",
   "nbconvert_exporter": "python",
   "pygments_lexer": "ipython3",
   "version": "3.6.5"
  }
 },
 "nbformat": 4,
 "nbformat_minor": 2
}
